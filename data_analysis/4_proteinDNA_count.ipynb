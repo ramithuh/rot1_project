{
 "cells": [
  {
   "cell_type": "code",
   "execution_count": 1,
   "id": "7654f54e-6402-4c0a-8236-0b1f8b1c5e0c",
   "metadata": {
    "tags": []
   },
   "outputs": [],
   "source": [
    "import re\n",
    "import os\n",
    "import sys\n",
    "import gzip\n",
    "import pandas as pd\n",
    "\n",
    "sys.path.append(\"../\")"
   ]
  },
  {
   "cell_type": "code",
   "execution_count": 2,
   "id": "6ab11a06-55aa-47a1-92cd-e229268b0add",
   "metadata": {
    "tags": []
   },
   "outputs": [],
   "source": [
    "from io_help import *"
   ]
  },
  {
   "cell_type": "code",
   "execution_count": 3,
   "id": "48019c38-4bbc-43ea-a5ae-dd0b91c34ec4",
   "metadata": {
    "tags": []
   },
   "outputs": [],
   "source": [
    "data_dir = \"/net/dali/home/chikina/shared_data/SELEX\"\n",
    "\n",
    "rounnd_file_names = sorted([x for x in os.listdir(data_dir) if ('.gz' in x and \"ZeroCycle\" not in x)])"
   ]
  },
  {
   "cell_type": "code",
   "execution_count": 4,
   "id": "2d5a776f-08b4-49d7-a192-5868c4094539",
   "metadata": {
    "tags": []
   },
   "outputs": [],
   "source": [
    "assert len(rounnd_file_names) == 2069"
   ]
  },
  {
   "cell_type": "code",
   "execution_count": 5,
   "id": "2d767a3a-c1aa-4167-a5c9-fd6b03097d9a",
   "metadata": {
    "tags": []
   },
   "outputs": [
    {
     "name": "stdout",
     "output_type": "stream",
     "text": [
      "found 2069 number of files:\n",
      "ALX3_ESAE_TGCAAG20NGA_1.txt.gz\n",
      "ALX3_ESAE_TGCAAG20NGA_2.txt.gz\n",
      "ALX3_ESAE_TGCAAG20NGA_3.txt.gz\n",
      "ALX3_ESAE_TGCAAG20NGA_4.txt.gz\n",
      "ALX3_ESZ_TGTAAA20NAAG_1.txt.gz\n",
      "ALX3_ESZ_TGTAAA20NAAG_2.txt.gz\n",
      "ALX3_ESZ_TGTAAA20NAAG_3.txt.gz\n",
      "ALX3_ESZ_TGTAAA20NAAG_4.txt.gz\n",
      "ALX4_ESW_TGTGTC20NGA_1.txt.gz\n",
      "ALX4_ESW_TGTGTC20NGA_2.txt.gz\n"
     ]
    }
   ],
   "source": [
    "print(f\"found {len(rounnd_file_names)} number of files:\")\n",
    "for i in range(0,10):\n",
    "    print(rounnd_file_names[i])"
   ]
  },
  {
   "cell_type": "code",
   "execution_count": 6,
   "id": "39758e71-133a-4b78-b43a-db7258cecea3",
   "metadata": {
    "tags": []
   },
   "outputs": [],
   "source": [
    "def get_regex_matches(string, protein_id, round_id, verbose = False):\n",
    "    \"\"\"\n",
    "        We are interested only a particular {round_id} so only retrieve those files from the base dir\n",
    "    \"\"\"\n",
    "    \n",
    "    pattern = rf\"^{protein_id}_([A-Za-z]+)_([A-Za-z]+)(\\d+N)([A-Z]+)?_{round_id}\\.txt\\.gz\"\n",
    "    matches = re.findall(pattern, string)\n",
    "    \n",
    "    if matches and verbose:\n",
    "        code1, code2, code3, code4, code5, code6 = matches[0]\n",
    "        print(code1)  # Output: Alx1\n",
    "        print(code2)  # Output: ESZ\n",
    "        print(code3)  # Output: TAAAGC\n",
    "        print(code4)  # Output: 20N\n",
    "        print(code5)  # Output: CG\n",
    "\n",
    "    if not(matches):\n",
    "        if(verbose):\n",
    "            print(f\"Regex failed at {string}\")\n",
    "        return None \n",
    "        \n",
    "    return matches[0]\n",
    "    \n",
    "def additional_check(file_name, regex_out, protein_id):\n",
    "    codes = file_name.split(\"_\")\n",
    "\n",
    "    assert regex_out[0]  == codes[1]\n",
    "    assert protein_id == codes[0]\n",
    "\n",
    "    return"
   ]
  },
  {
   "cell_type": "code",
   "execution_count": 7,
   "id": "9763aed3-544a-4407-ba23-f48ab22edfbc",
   "metadata": {
    "tags": []
   },
   "outputs": [],
   "source": [
    "df = pd.read_csv('protein_info.csv')\n",
    "all_proteins = set(df['HNGC-name'].tolist())"
   ]
  },
  {
   "cell_type": "code",
   "execution_count": null,
   "id": "f2d91302-1a26-4cf5-929c-5dd7b3a82e37",
   "metadata": {
    "tags": []
   },
   "outputs": [],
   "source": []
  },
  {
   "cell_type": "code",
   "execution_count": 8,
   "id": "bceea2bb-46c7-42ad-a832-d16c6bd55ef8",
   "metadata": {
    "tags": []
   },
   "outputs": [
    {
     "name": "stdout",
     "output_type": "stream",
     "text": [
      "Number of lines in ALX3_ESZ_TGTAAA20NAAG_4.txt.gz: 328520\n"
     ]
    }
   ],
   "source": [
    "# Usage\n",
    "file_name = 'ALX3_ESZ_TGTAAA20NAAG_4.txt.gz'\n",
    "line_count = count_lines_in_gzfile(f\"{data_dir}/{file_name}\")\n",
    "\n",
    "print(f\"Number of lines in {file_name}: {line_count}\")"
   ]
  },
  {
   "cell_type": "code",
   "execution_count": 9,
   "id": "8f4125b0-6cd7-4ada-bd15-7bb69d65a734",
   "metadata": {
    "tags": []
   },
   "outputs": [
    {
     "data": {
      "text/plain": [
       "2"
      ]
     },
     "execution_count": 9,
     "metadata": {},
     "output_type": "execute_result"
    }
   ],
   "source": [
    "count = count_matching_files('ALX3',4,data_dir)\n",
    "count"
   ]
  },
  {
   "cell_type": "code",
   "execution_count": 10,
   "id": "61913e35-86f7-4b9b-ae57-5a2bec36dbe7",
   "metadata": {
    "tags": []
   },
   "outputs": [],
   "source": [
    "def is_valid_dna(seq):\n",
    "    valid_chars = set('ACGT')\n",
    "    return all(c in valid_chars for c in seq)"
   ]
  },
  {
   "cell_type": "markdown",
   "id": "054a49ee-b629-47ec-b85e-1718796e406d",
   "metadata": {},
   "source": [
    "### Load unique dna_fragments in Zero Cycle"
   ]
  },
  {
   "cell_type": "code",
   "execution_count": 11,
   "id": "792c7c7f-4e02-4672-aec1-60749bff8f06",
   "metadata": {
    "tags": []
   },
   "outputs": [
    {
     "name": "stdout",
     "output_type": "stream",
     "text": [
      "0,10,20,30,40,50,60,70,80,90,100,110,120,130,140,150,160,170,180,190,200,210,220,230,240,250,260,270,280,290,300,310,320,330,340,350,360,370,380,390,400,410,420,430,440,"
     ]
    }
   ],
   "source": [
    "unique_zero_cycle_dna_seq = set()\n",
    "\n",
    "count = 0\n",
    "\n",
    "zero_cycle_file_names = sorted([x for x in os.listdir(data_dir) if ('.gz' in x and \"ZeroCycle\" in x)])\n",
    "\n",
    "for idx, file in enumerate(zero_cycle_file_names):\n",
    "    if(idx%10==0):\n",
    "        print(idx, end = \",\")\n",
    "    \n",
    "    with gzip.open(f\"{data_dir}/{zero_cycle_file_names[idx]}\", 'rt') as f:\n",
    "        for i, line in enumerate(f):\n",
    "            if i % 4 == 1:  # Every fourth line, starting with the second line (index 1)\n",
    "                temp = line.strip()\n",
    "                \n",
    "                # add valids to a \n",
    "                if((is_valid_dna(temp))):\n",
    "                    #zero_cycle_dna_seq.append(temp)\n",
    "                    unique_zero_cycle_dna_seq.add(temp)\n",
    "                    count+=1"
   ]
  },
  {
   "cell_type": "code",
   "execution_count": 12,
   "id": "9cfdd762-b0df-47fb-a147-6f7bfa3e1e5f",
   "metadata": {
    "tags": []
   },
   "outputs": [
    {
     "data": {
      "text/plain": [
       "286966705"
      ]
     },
     "execution_count": 12,
     "metadata": {},
     "output_type": "execute_result"
    }
   ],
   "source": [
    "len(unique_zero_cycle_dna_seq)"
   ]
  },
  {
   "cell_type": "code",
   "execution_count": 17,
   "id": "078b850c-3506-47d6-8832-344de77f0a29",
   "metadata": {
    "tags": []
   },
   "outputs": [
    {
     "data": {
      "text/plain": [
       "{'1': [], '2': [], '3': [], '4': ['Zic3_ESAF_TCAAAA20NAAA_4.txt.gz'], '5': []}"
      ]
     },
     "execution_count": 17,
     "metadata": {},
     "output_type": "execute_result"
    }
   ],
   "source": [
    "rf_dict"
   ]
  },
  {
   "cell_type": "code",
   "execution_count": 19,
   "id": "68b136c6-99ac-41a7-8914-4756fc11d77b",
   "metadata": {
    "tags": []
   },
   "outputs": [
    {
     "name": "stdout",
     "output_type": "stream",
     "text": [
      "Number of files matched 517; all files 2069\n"
     ]
    }
   ],
   "source": [
    "r_idx = 4\n",
    "\n",
    "fc = 0\n",
    "\n",
    "rp_dict    = { '1' : [], '2' : [], '3' : [], '4' : [], '5' : []} # proteins in each round_id\n",
    "rf_dict    = { '1' : [], '2' : [], '3' : [], '4' : [], '5' : []} # file_name in each round_id\n",
    "regex_dict = { '1' : [], '2' : [], '3' : [], '4' : [], '5' : []} # the whole segmented file keys\n",
    "\n",
    "for protein_id in sorted(all_proteins): ## Loop through each protein\n",
    "\n",
    "    m = 0 \n",
    "    for string in rounnd_file_names:\n",
    "        # get file matches for protein & round_id \n",
    "        matches = get_regex_matches(string, protein_id, r_idx) \n",
    "        \n",
    "        if(matches != None):\n",
    "            \n",
    "            # add protein, file_name, and regex\n",
    "            rp_dict[str(r_idx)].append(matches[0])\n",
    "            rf_dict[str(r_idx)].append(string)\n",
    "            regex_dict[str(r_idx)].append(matches)\n",
    "            \n",
    "            # sanity check\n",
    "            additional_check(string, matches, protein_id)\n",
    "            m+=1\n",
    "    \n",
    "    \n",
    "    assert count_matching_files(protein_id, r_idx, data_dir) == m\n",
    "    fc += m\n",
    "    \n",
    "print(f\"Number of files matched {fc}; all files {len(rounnd_file_names)}\")"
   ]
  },
  {
   "cell_type": "code",
   "execution_count": 22,
   "id": "8d46d8e2-7439-45f2-be9b-0c0b4cc8b02e",
   "metadata": {
    "tags": []
   },
   "outputs": [
    {
     "name": "stdout",
     "output_type": "stream",
     "text": [
      "Egr1_ESP_TGCGCC20NCG_4.txt.gz\n"
     ]
    }
   ],
   "source": [
    "for string in rounnd_file_names:\n",
    "    \n",
    "    if ('_4.txt.gz' in string) and string not in rf_dict['4']:\n",
    "        print(string)"
   ]
  },
  {
   "cell_type": "code",
   "execution_count": null,
   "id": "2d3e6c2e-8080-4762-8d46-f288f7759a3f",
   "metadata": {},
   "outputs": [],
   "source": [
    "Egr1_ESP_TGCGCC20NCG_4"
   ]
  },
  {
   "cell_type": "code",
   "execution_count": 25,
   "id": "bd9739db-8c8a-4de2-a0f0-af91fb75f190",
   "metadata": {
    "tags": []
   },
   "outputs": [
    {
     "data": {
      "text/plain": [
       "2995744"
      ]
     },
     "execution_count": 25,
     "metadata": {},
     "output_type": "execute_result"
    }
   ],
   "source": [
    "count_lines_in_gzfile(f\"{data_dir}/Egr1_ESP_TGCGCC20NCG_4.txt.gz\")//4"
   ]
  },
  {
   "cell_type": "code",
   "execution_count": null,
   "id": "f20472b6-5b8b-4e02-9e6b-fbb3a9ca83fb",
   "metadata": {
    "tags": []
   },
   "outputs": [
    {
     "name": "stdout",
     "output_type": "stream",
     "text": [
      "      ALX3     336781     336701     151063         67\n",
      "      ALX4    5159539    5159290    1946739        898\n",
      "        AR    2250446    2249546    1116328        622\n",
      "     ARNTL    2021565    2021452    1557409        822\n",
      "       ARX    1324032    1323723    1109695        679\n",
      "      ATF4    2687716    2687502    1992452       1003\n",
      "      ATF7    2094093    2094090    1688239          2\n",
      "      Alx1    2648368    2647764     608987        303\n",
      "      Alx4    3558192    3557893    1366067        953\n",
      "        Ar    4636886    4636514    2464167       1834\n",
      "       Arx     333527     327442     294700        151\n",
      "     Ascl2     425545     425441     164340        148\n",
      "      Atf4      28871      28862       3901          0\n",
      "     Atoh1    1601470    1601106     727491        349\n",
      "    BARHL2    1907015    1906268    1348666        218\n",
      "     BARX1     174399     174320     135524         63\n",
      "     BATF3     482352     473579     445794        259\n",
      "     BCL6B     787864     783415     519273        336\n",
      "   BHLHA15     545549     545456     222690        129\n",
      "    BHLHB2     839693     839511     359966        146\n",
      "    BHLHB3     867657     866287      32905         14\n",
      "   BHLHE22    1280954    1280510     158448         93\n",
      "   BHLHE23    1052440    1052073     235376        120\n",
      "   BHLHE41     363446     361444     222102         96\n",
      "       BSX    3423206    3421980     369420        168\n",
      "    Barhl1     301326     301175     137661         75\n",
      "    Bhlhb2    6770058    6768567    1596477        508\n",
      "     CART1    2545522    2544610     481478        232\n",
      "      CDX1    2795126    2794197    1619321        869\n",
      "      CDX2    2527569    2526721     754561        381\n",
      "     CEBPB    4817592    4817323    2858322       1233\n",
      "     CEBPD    3195779    3194646     383078        190\n",
      "     CEBPE    1987652    1987569    1053986        458\n",
      "     CEBPG    3493427    3493066    1079237        419\n",
      "     CENPB     480901     478136     178213         71\n",
      "     CLOCK     475398     475284     370424        261\n",
      "     CPEB1     160290     160217     146040        132\n",
      "     CREB3     819673     818483     637169        417\n",
      "   CREB3L1    3655681    3655388    1709510        654\n",
      "      CTCF          0          0          0          0\n",
      "      CUX1    1417023    1416477     610404        118\n",
      "      CUX2    1501736    1501098     371205        129\n",
      "     Cebpb     291845     291704     268128         90\n",
      "   Creb3l2    2258977    2258485    1577697        850\n",
      "     Creb5    1631028    1630639     314624        218\n",
      "       DBP    3204135    3195072    2031247        645\n",
      "      DLX1    1452377    1452038     658412        386\n",
      "      DLX2    2098031    2097599     851535        394\n",
      "      DLX3    3540813    3539593     365051        186\n",
      "      DLX4     219339     219242     147349         72\n",
      "      DLX5      12604      12602      10652        148\n",
      "      DLX6     898314     898254     134317         67\n",
      "     DMBX1    1001167     982854     965101        376\n",
      "      DPRX    3215807    3215468    1896473          1\n",
      "      DRGX     760241     760098      77183         36\n",
      "      DUXA    1979445    1979048     351184        157\n",
      "       Dbp    1809729    1582250     356636        169\n",
      "      Dlx1    3676988    3676719    2207895       1941\n",
      "      Dlx2     280845     280729     258303        117\n",
      "      E2F1    3797882    3797776    2211606      26852\n",
      "      E2F2    2074672    2074573    1744699        879\n",
      "      E2F3    2347848    2347445     630723        328\n",
      "      E2F4      66939      66935      52288       1063\n",
      "      E2F7    2972015    2971862    1742698        825\n",
      "      E2F8      19249      19242       7191        132\n",
      "      EBF1     187529     187454     146555        224\n",
      "      EGR1    1132537    1132309     596577        318\n",
      "      EGR2    4574168    4573855    1941954       1048\n",
      "      EGR3    2224122    2223760    1457690        953\n",
      "      EGR4     731894     731600     641075         21\n",
      "       EHF          0          0          0          0\n",
      "      ELF1    2031777    2031017    1571950        843\n",
      "      ELF3    1473552    1472964     416584        200\n",
      "      ELF4          0          0          0          0\n",
      "      ELF5    4723254    4722608    2143841        951\n",
      "      ELK1    2149521    2149180    1474930        540\n",
      "      ELK3     608772     597819     466041        179\n",
      "      ELK4          0          0          0          0\n",
      "      EMX1    3359536    3359129    1812789          1\n",
      "      EMX2    2886536    2886214    1916533          0\n",
      "       EN1    4155789    4154687    3471093       1694\n",
      "       EN2     913781     896950     888859        444\n",
      "     EOMES    3693415    3693017     618354          1\n",
      "       ERF    1929724    1929639    1809313        961\n",
      "       ERG    2295758    2295364     880248        425\n",
      "      ESR1    3436775    3436524    2592653       1423\n",
      "     ESRRA    3580772    3580401    1172855          0\n",
      "     ESRRB       9432       9432       8861        117\n",
      "     ESRRG    1124410    1124233     660644        277\n",
      "      ESX1    1555134    1552977     565743        269\n",
      "      ETS1    6160344    6159398    1836126        407\n",
      "      ETV1     970707     970531     754508        231\n",
      "      ETV2          0          0          0          0\n",
      "      ETV3    2237926    2237827    2115609        959\n",
      "      ETV4     832793     817970     713860        242\n",
      "      ETV5    3268139    3267446     930943        266\n",
      "      ETV6    3164080    3163482    1132351        667\n",
      "      EVX1      48043      48024      47613         13\n",
      "      EVX2     933810     933644     616217        258\n",
      "Egr1_E410D_FARSDERtoFARSDDR          0          0          0          0\n",
      "      Egr3     933330     933116     357340        192\n",
      "      Elf5    2608566    2607951     338968        118\n",
      "      Elk3      69843      69815      63086         17\n",
      "       En2    3526979    3526263    3380531       1844\n",
      "     Esrra     186667     186616      96972         97\n",
      "       FEV     987560     987340     693809        191\n",
      "     FIGLA         18         18         15          0\n",
      "      FLI1    2449191    2448989     940912        548\n",
      "     FOXB1    2639192    2638515    1391074        119\n",
      "     FOXC1    2299673    2299436     209997          0\n",
      "     FOXC2    2384047    2383758     757585          0\n",
      "     FOXD2     792204     792015     318105        236\n",
      "     FOXD3      26754      26743      16140         20\n",
      "     FOXG1     199395     199317     185097        135\n",
      "     FOXI1    1860195    1859787    1302935        752\n",
      "     FOXJ2    1957355    1957255     459520        541\n",
      "     FOXJ3     370014     369494     330145        191\n",
      "     FOXK1       1873       1873       1628         28\n",
      "     FOXL1    1328335    1328269     603290       1131\n",
      "     FOXO1    2157367    2156935    1190051        688\n",
      "     FOXO3     436433     436412     397097        254\n",
      "     FOXO4     735665     731660     319618        197\n",
      "     FOXO6    5451475    5450900    3831773          3\n",
      "     FOXP3    1012757    1012418     332037        133\n",
      "     Foxc1     804821     804741     729474       9718\n",
      "     Foxg1     625183     625075     242060        165\n",
      "     Foxj3    2462798    2462434    1194411        839\n",
      "     Foxk1    1091354    1091161     820358       1169\n",
      "     GABPA     798785     798660     753461        383\n",
      "     GATA3    2145194    1970383     939699        678\n",
      "     GATA4    3037863    3036930    1290798        541\n",
      "     GATA5     854668     854533     587875        325\n",
      "      GBX1    1022498    1022283      53501         28\n",
      "      GBX2    1801497    1785688     957548        446\n",
      "      GCM1    3366067    3361083    1604583        669\n",
      "      GCM2     295454     295403     167846         94\n",
      "      GLI2    1363255    1362731    1052423         31\n",
      "     GLIS1          0          0          0          0\n",
      "     GLIS2    2137802    2137079     761541        382\n",
      "     GLIS3          0          0          0          0\n",
      "     GMEB2     495877     495798     359031        181\n",
      "     GRHL1    4389583    4389303    1666648        970\n",
      "       GSC    1286801    1279632     754491        447\n",
      "      GSC2    2098115    2097726    1557683        745\n",
      "      GSX1     333361     333243      71199         36\n",
      "      GSX2    2510362    2509461     585305        292\n",
      "      Gbx1    3691915    3691732     701172        542\n",
      "      Gbx2    1692900    1692521     789716        396\n",
      "      HES5     192702     192664      66241         35\n",
      "      HES7        964        964        539         15\n",
      "     HESX1     323067     322973     102413         58\n",
      "      HEY1     681920     681808     535011        290\n",
      "      HEY2    5111897    5110471    3082313       1443\n",
      "      HIC2     150762     150694     131242        117\n",
      "    HINFP1    9816102    9815355    1202813        661\n",
      "       HLF     463420     462757     333250        233\n",
      "    HMBOX1     781222     781040     302631        239\n",
      "      HMX1     550837     550695     399101        220\n",
      "      HMX2    1934452    1933766     337189        179\n",
      "      HMX3    3149040    3148756    2374336          1\n",
      "     HNF1A    2094488    2094313     576621        271\n",
      "     HNF1B    1666271    1666170     487537        227\n",
      "     HNF4A    2641654    2641028    1631267        862\n",
      "     HOMEZ     383975     383892     252568        156\n",
      "     HOXA1     855327     855190     520807        352\n",
      "    HOXA10    3051935    3051639    2424278          0\n"
     ]
    }
   ],
   "source": [
    "## Dictionaries to store \n",
    "# csv_file = open('summary.csv', 'w')\n",
    "# csv_file.write(f\"protein_id,all_count,valid_count,total_unique_count,intersection_count\\n\")\n",
    "\n",
    "r_idx = 4\n",
    "\n",
    "protein_names = []\n",
    "\n",
    "protein_all_counts    = [] ## can include Ns\n",
    "protein_valid_counts  = [] ## all validss\n",
    "protein_unique_counts = []\n",
    "\n",
    "global_count = 0\n",
    "global_valid_count = 0\n",
    "\n",
    "all_round_four_seq = set()\n",
    "\n",
    "for protein_id in sorted(all_proteins): ## Loop through each protein\n",
    "\n",
    "    rp_dict    = { '1' : [], '2' : [], '3' : [], '4' : [], '5' : []} # proteins in each round_id\n",
    "    rf_dict    = { '1' : [], '2' : [], '3' : [], '4' : [], '5' : []} # file_name in each round_id\n",
    "    regex_dict = { '1' : [], '2' : [], '3' : [], '4' : [], '5' : []} # the whole segmented file keys\n",
    "    \n",
    "    for string in rounnd_file_names:\n",
    "        # get file matches for protein & round_id \n",
    "        matches = get_regex_matches(string, protein_id, r_idx) \n",
    "        \n",
    "        if(matches != None):\n",
    "            \n",
    "            # add protein, file_name, and regex\n",
    "            rp_dict[str(r_idx)].append(matches[0])\n",
    "            rf_dict[str(r_idx)].append(string)\n",
    "            regex_dict[str(r_idx)].append(matches)\n",
    "            \n",
    "            # sanity check\n",
    "            additional_check(string, matches, protein_id)\n",
    "\n",
    "    \n",
    "    filtered_file_names = rf_dict[str(r_idx)] ##filtered file names for protein and round of interest\n",
    "    \n",
    "    assert count_matching_files(protein_id, r_idx, data_dir) == len(filtered_file_names)\n",
    "        \n",
    "    all_count   = 0\n",
    "    valid_count = 0\n",
    "    count2 = 0\n",
    "    \n",
    "    dna_seq = []\n",
    "    \n",
    "    ## loop through each relevant file \n",
    "    for file in filtered_file_names:\n",
    "        \n",
    "        ## count number of lines through bash\n",
    "        count2 += count_lines_in_gzfile(f\"{data_dir}/{file}\")//4\n",
    "        \n",
    "        with gzip.open(f\"{data_dir}/{file}\", 'rt') as f:\n",
    "            for i, line in enumerate(f):\n",
    "                if i % 4 == 1:  # Every fourth line, starting with the second line (index 1)\n",
    "                    temp = line.strip()\n",
    "                    \n",
    "                    ## check if there's any 'N's in the sequence\n",
    "                    if(is_valid_dna(temp)):\n",
    "                        dna_seq.append(temp)\n",
    "                        all_round_four_seq.add(temp)\n",
    "                        valid_count += 1\n",
    "                    \n",
    "                    all_count += 1\n",
    "    \n",
    "    assert all_count == count2\n",
    "    \n",
    "    global_count       += all_count\n",
    "    global_valid_count += valid_count\n",
    "\n",
    "    unique_dna_seq = set(dna_seq)\n",
    "\n",
    "    total_unique_count = len(unique_dna_seq)\n",
    "    # print(total_count)\n",
    "\n",
    "    protein_names.append(protein_id)\n",
    "    \n",
    "    # append counts\n",
    "    protein_all_counts.append(all_count)\n",
    "    protein_valid_counts.append(valid_count)\n",
    "    protein_unique_counts.append(total_unique_count)\n",
    "    \n",
    "    intersection_count = sum(1 for frag in unique_dna_seq if frag in unique_zero_cycle_dna_seq)\n",
    "    \n",
    "    #csv_file.write(f\"{protein_id},{all_count},{valid_count},{total_unique_count},{intersection_count}\\n\")\n",
    "    print(f\"{protein_id:>10} {all_count:>10} {valid_count:>10} {total_unique_count:>10} {intersection_count:>10}\")"
   ]
  },
  {
   "cell_type": "code",
   "execution_count": null,
   "id": "23b17e6c-ba9a-4ba1-8537-f3d2f606ddb7",
   "metadata": {
    "tags": []
   },
   "outputs": [],
   "source": [
    "# print(\"redda\")"
   ]
  },
  {
   "cell_type": "code",
   "execution_count": null,
   "id": "629afd47-effc-4879-bd08-5d18a2be5861",
   "metadata": {
    "tags": []
   },
   "outputs": [],
   "source": [
    "# csv_file.close()"
   ]
  },
  {
   "cell_type": "code",
   "execution_count": 15,
   "id": "9fae98a1-2c1d-4929-84a6-cd3f019b0dde",
   "metadata": {
    "tags": []
   },
   "outputs": [
    {
     "data": {
      "text/plain": [
       "392671130"
      ]
     },
     "execution_count": 15,
     "metadata": {},
     "output_type": "execute_result"
    }
   ],
   "source": [
    "len(all_round_four_seq)"
   ]
  },
  {
   "cell_type": "code",
   "execution_count": null,
   "id": "a48c11b3-dbf3-47db-8bd7-d7e80c2fd0f1",
   "metadata": {
    "tags": []
   },
   "outputs": [],
   "source": []
  },
  {
   "cell_type": "code",
   "execution_count": null,
   "id": "17bab5e4-e1ba-48c8-b2a3-163d1d3b1144",
   "metadata": {},
   "outputs": [],
   "source": [
    "# protein_names"
   ]
  },
  {
   "cell_type": "code",
   "execution_count": 26,
   "id": "0b297282-05e0-445e-9338-bafde68ec846",
   "metadata": {},
   "outputs": [
    {
     "data": {
      "text/plain": [
       "2995744"
      ]
     },
     "execution_count": 26,
     "metadata": {},
     "output_type": "execute_result"
    }
   ],
   "source": [
    "count_lines_in_gzfile(f\"{data_dir}/Egr1_ESP_TGCGCC20NCG_4.txt.gz\")//4"
   ]
  },
  {
   "cell_type": "code",
   "execution_count": 27,
   "id": "49750561-d1e7-4ef8-a1a8-dbb452d7c6f0",
   "metadata": {
    "tags": []
   },
   "outputs": [],
   "source": [
    "## This protien is not in the all protein list file. so go through that manually"
   ]
  },
  {
   "cell_type": "code",
   "execution_count": 28,
   "id": "efe1173a-890e-45ca-91d2-df7190c25a80",
   "metadata": {},
   "outputs": [],
   "source": [
    "with gzip.open(f\"{data_dir}/Egr1_ESP_TGCGCC20NCG_4.txt.gz\", 'rt') as f:\n",
    "    for i, line in enumerate(f):\n",
    "        if i % 4 == 1:  # Every fourth line, starting with the second line (index 1)\n",
    "            temp = line.strip()\n",
    "\n",
    "            ## check if there's any 'N's in the sequence\n",
    "            if(is_valid_dna(temp)):\n",
    "                all_round_four_seq.add(temp)"
   ]
  },
  {
   "cell_type": "code",
   "execution_count": 29,
   "id": "349844a9-1934-4d22-be85-82cd921052df",
   "metadata": {},
   "outputs": [
    {
     "data": {
      "text/plain": [
       "394325561"
      ]
     },
     "execution_count": 29,
     "metadata": {},
     "output_type": "execute_result"
    }
   ],
   "source": [
    "len(all_round_four_seq)"
   ]
  },
  {
   "cell_type": "code",
   "execution_count": null,
   "id": "7706c3a0-4af5-456f-9688-6c808c6143aa",
   "metadata": {},
   "outputs": [],
   "source": []
  },
  {
   "cell_type": "code",
   "execution_count": null,
   "id": "f3c7053c-3f84-460a-af75-0ca73b192376",
   "metadata": {},
   "outputs": [],
   "source": []
  },
  {
   "cell_type": "code",
   "execution_count": null,
   "id": "0c0bfc0d-be6e-4c3e-9de2-003834f02a04",
   "metadata": {},
   "outputs": [],
   "source": []
  }
 ],
 "metadata": {
  "kernelspec": {
   "display_name": "prot_dna",
   "language": "python",
   "name": "prot_dna"
  },
  "language_info": {
   "codemirror_mode": {
    "name": "ipython",
    "version": 3
   },
   "file_extension": ".py",
   "mimetype": "text/x-python",
   "name": "python",
   "nbconvert_exporter": "python",
   "pygments_lexer": "ipython3",
   "version": "3.11.9"
  }
 },
 "nbformat": 4,
 "nbformat_minor": 5
}
