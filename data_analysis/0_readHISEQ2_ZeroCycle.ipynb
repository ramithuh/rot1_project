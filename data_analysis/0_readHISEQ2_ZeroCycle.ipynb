{
 "cells": [
  {
   "cell_type": "code",
   "execution_count": 1,
   "id": "2acf5aa7-1ebc-4fb5-9258-49396c0daf71",
   "metadata": {},
   "outputs": [],
   "source": [
    "import re\n",
    "import os\n",
    "\n",
    "data_dir = \"/n/holyscratch01/wadduwage_lab/ramith/SELEX/SELEX/\"\n",
    "\n",
    "file_names = sorted([x for x in os.listdir(data_dir) if ('.gz' in x and \"ZeroCycle\" in x)])"
   ]
  },
  {
   "cell_type": "code",
   "execution_count": 2,
   "id": "ff111a06-1ba9-4ff8-a4a4-bc045a3f2f22",
   "metadata": {},
   "outputs": [
    {
     "data": {
      "text/plain": [
       "(['ZeroCycle_ES0_AAGAC14N_0.txt.gz',\n",
       "  'ZeroCycle_ES0_AATTC14N_0.txt.gz',\n",
       "  'ZeroCycle_ES0_AGAGT14N_0.txt.gz',\n",
       "  'ZeroCycle_ES0_AGATA14N_0.txt.gz',\n",
       "  'ZeroCycle_ES0_AGCAG14N_0.txt.gz'],\n",
       " 441)"
      ]
     },
     "execution_count": 2,
     "metadata": {},
     "output_type": "execute_result"
    }
   ],
   "source": [
    "file_names[:5], len(file_names)"
   ]
  },
  {
   "cell_type": "code",
   "execution_count": 3,
   "id": "ca361e62-d21f-4c0f-a47d-2ce7dcb0fd92",
   "metadata": {},
   "outputs": [],
   "source": [
    "import gzip"
   ]
  },
  {
   "cell_type": "code",
   "execution_count": 4,
   "id": "88250ebb-a8e3-470f-9975-07af6474edef",
   "metadata": {},
   "outputs": [],
   "source": [
    "def is_valid_dna(seq):\n",
    "    valid_chars = set('ACGT')\n",
    "    return all(c in valid_chars for c in seq)\n",
    "    "
   ]
  },
  {
   "cell_type": "code",
   "execution_count": 5,
   "id": "f0d49c01-de4a-49e3-8809-549b29ca9837",
   "metadata": {
    "scrolled": true
   },
   "outputs": [
    {
     "name": "stdout",
     "output_type": "stream",
     "text": [
      "0,10,20,30,40,50,60,70,80,90,100,110,120,130,140,150,160,170,180,190,200,210,220,230,240,250,260,270,280,290,300,310,320,330,340,350,360,370,380,390,400,410,420,430,440,"
     ]
    }
   ],
   "source": [
    "zero_cycle_dna_seq = []\n",
    "issue_pos = []\n",
    "zero_cycle_dna_seq_len = []\n",
    "\n",
    "count = 0\n",
    "\n",
    "for idx, file in enumerate(file_names):\n",
    "    if(idx%10==0):\n",
    "        print(idx, end = \",\")\n",
    "    \n",
    "    with gzip.open(data_dir + file_names[idx], 'rt') as f:\n",
    "        for i, line in enumerate(f):\n",
    "            if i % 4 == 1:  # Every fourth line, starting with the second line (index 1)\n",
    "                temp = line.strip()\n",
    "                \n",
    "                ## ONLY APPEND THE VALID ONES\n",
    "                if((is_valid_dna(temp))):\n",
    "                    zero_cycle_dna_seq.append(temp)\n",
    "                    zero_cycle_dna_seq_len.append(len(temp))\n",
    "                    count+=1\n",
    "                #     #\n",
    "                #     issue_pos.append(count)\n",
    "                # else:\n",
    "                #     ## append the sequences to a common place\n",
    "                    "
   ]
  },
  {
   "cell_type": "code",
   "execution_count": 6,
   "id": "df1a303c-16a1-4760-b328-bd5b1a206f80",
   "metadata": {},
   "outputs": [],
   "source": [
    "unique_zero_cycle_dna_seq = set(zero_cycle_dna_seq)"
   ]
  },
  {
   "cell_type": "code",
   "execution_count": 7,
   "id": "958fd097-a7ca-435d-81fb-467bfe9860cf",
   "metadata": {},
   "outputs": [],
   "source": [
    "# Open the text file in write mode\n",
    "with open('dna_fragments.txt', 'w') as file:\n",
    "    # Iterate over the set and write each element to a new line\n",
    "    for item in unique_zero_cycle_dna_seq:\n",
    "        file.write(f\"{item}\\n\")"
   ]
  },
  {
   "cell_type": "code",
   "execution_count": null,
   "id": "c91952d1-6241-4010-abb3-82372b890f3e",
   "metadata": {},
   "outputs": [],
   "source": []
  },
  {
   "cell_type": "code",
   "execution_count": null,
   "id": "a23ad4a3-6c60-4ad8-95bb-08ea575fcf4c",
   "metadata": {},
   "outputs": [],
   "source": []
  },
  {
   "cell_type": "code",
   "execution_count": null,
   "id": "83bef1c2-8171-4862-bf6d-681086bbfcfa",
   "metadata": {},
   "outputs": [],
   "source": []
  },
  {
   "cell_type": "code",
   "execution_count": null,
   "id": "940234b9-7fd8-4884-8f08-31280c57d68c",
   "metadata": {},
   "outputs": [],
   "source": [
    "import numpy as np\n",
    "zero_cycle_dna_seq_len = np.array(zero_cycle_dna_seq_len)"
   ]
  },
  {
   "cell_type": "code",
   "execution_count": null,
   "id": "98d80278-f63d-42ca-ae5b-c93ae55afa38",
   "metadata": {},
   "outputs": [],
   "source": []
  },
  {
   "cell_type": "code",
   "execution_count": null,
   "id": "5be20d4d-9b28-49b3-8249-735b2ebe1934",
   "metadata": {},
   "outputs": [],
   "source": [
    "# len(dna_sequences) #287 Million"
   ]
  },
  {
   "cell_type": "code",
   "execution_count": null,
   "id": "0ded0047-116f-4b1f-87a3-4f947d643b61",
   "metadata": {},
   "outputs": [],
   "source": [
    "zero_cycle_dna_seq_len.shape"
   ]
  },
  {
   "cell_type": "code",
   "execution_count": null,
   "id": "b4a95cae-0404-40a4-b19f-38ea2f3a0d14",
   "metadata": {},
   "outputs": [],
   "source": [
    "zero_cycle_dna_seq_len.mean(), zero_cycle_dna_seq_len.max(), zero_cycle_dna_seq_len.min()"
   ]
  },
  {
   "cell_type": "code",
   "execution_count": null,
   "id": "f6bef87c-9191-479e-b138-5fd6ae329fe8",
   "metadata": {},
   "outputs": [],
   "source": [
    "len(zero_cycle_dna_seq), len(set(zero_cycle_dna_seq))"
   ]
  },
  {
   "cell_type": "code",
   "execution_count": null,
   "id": "a7c97c6e-00a8-4e8c-a5e7-51decd76101e",
   "metadata": {},
   "outputs": [],
   "source": []
  },
  {
   "cell_type": "code",
   "execution_count": null,
   "id": "50228342-e640-4dcb-a976-1df2f3970e9c",
   "metadata": {},
   "outputs": [],
   "source": [
    "len(issue_pos), zero_cycle_dna_seq[issue_pos[-2500]], zero_cycle_dna_seq[issue_pos[0]]"
   ]
  },
  {
   "cell_type": "code",
   "execution_count": null,
   "id": "6ba09f30-d20f-4561-9a35-6d70b12dcafd",
   "metadata": {},
   "outputs": [],
   "source": [
    "len('GAAACCTANCCAGTTAGTCCTACGAAGGTATAGTGAGATG')"
   ]
  },
  {
   "cell_type": "markdown",
   "id": "1b99aeda-3300-473a-8817-521bc7e12f1b",
   "metadata": {},
   "source": [
    "## Memory Usage"
   ]
  },
  {
   "cell_type": "code",
   "execution_count": null,
   "id": "5b9700aa-e330-4232-a0f9-7cf7dbb62cf9",
   "metadata": {},
   "outputs": [],
   "source": [
    "from pympler.asizeof import asizeof"
   ]
  },
  {
   "cell_type": "code",
   "execution_count": null,
   "id": "97a8cb41-a8d4-4b7a-9121-e157ccd58d65",
   "metadata": {},
   "outputs": [],
   "source": [
    "## Memory Usage for all 287 Million ~ 15GB\n",
    "(asizeof(dna_sequences[0])*len(dna_sequences))/(1024*1024*1024) #GB"
   ]
  },
  {
   "cell_type": "code",
   "execution_count": null,
   "id": "1bf18cc4-5e69-4340-aae1-0e8541e13a0d",
   "metadata": {},
   "outputs": [],
   "source": [
    "# Size of one DNA sequence # 56 bytes\n",
    "asizeof(dna_sequences[1]), asizeof(dna_sequences[3])"
   ]
  },
  {
   "cell_type": "code",
   "execution_count": null,
   "id": "6ea6e3f7-11dc-4bd1-941f-15377a38154f",
   "metadata": {},
   "outputs": [],
   "source": [
    "63*287311244/(1024*1024*1024)"
   ]
  },
  {
   "cell_type": "code",
   "execution_count": null,
   "id": "d93d9d2b-34aa-4086-a79c-4126193c4144",
   "metadata": {},
   "outputs": [],
   "source": [
    "import numpy as np\n",
    "seq = 'AAACTGCGTCAAGG'"
   ]
  },
  {
   "cell_type": "code",
   "execution_count": null,
   "id": "96577dd0-7528-4970-8e66-2e3c1352ab1d",
   "metadata": {},
   "outputs": [],
   "source": [
    "asizeof(seq)"
   ]
  }
 ],
 "metadata": {
  "kernelspec": {
   "display_name": "jax",
   "language": "python",
   "name": "jax"
  },
  "language_info": {
   "codemirror_mode": {
    "name": "ipython",
    "version": 3
   },
   "file_extension": ".py",
   "mimetype": "text/x-python",
   "name": "python",
   "nbconvert_exporter": "python",
   "pygments_lexer": "ipython3",
   "version": "3.11.8"
  }
 },
 "nbformat": 4,
 "nbformat_minor": 5
}
