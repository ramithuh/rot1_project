{
 "cells": [
  {
   "cell_type": "code",
   "execution_count": 1,
   "id": "2acf5aa7-1ebc-4fb5-9258-49396c0daf71",
   "metadata": {},
   "outputs": [],
   "source": [
    "import re\n",
    "import os\n",
    "\n",
    "data_dir = \"/home/ruh/SELEX_Cluster/\"\n",
    "\n",
    "file_names = sorted([x for x in os.listdir(data_dir) if ('.gz' in x and \"ZeroCycle\" in x)])"
   ]
  },
  {
   "cell_type": "code",
   "execution_count": 2,
   "id": "ff111a06-1ba9-4ff8-a4a4-bc045a3f2f22",
   "metadata": {},
   "outputs": [
    {
     "data": {
      "text/plain": [
       "(['ZeroCycle_ES0_AAGAC14N_0.txt.gz',\n",
       "  'ZeroCycle_ES0_AATTC14N_0.txt.gz',\n",
       "  'ZeroCycle_ES0_AGAGT14N_0.txt.gz',\n",
       "  'ZeroCycle_ES0_AGATA14N_0.txt.gz',\n",
       "  'ZeroCycle_ES0_AGCAG14N_0.txt.gz'],\n",
       " 441)"
      ]
     },
     "execution_count": 2,
     "metadata": {},
     "output_type": "execute_result"
    }
   ],
   "source": [
    "file_names[:5], len(file_names)"
   ]
  },
  {
   "cell_type": "code",
   "execution_count": 3,
   "id": "ca361e62-d21f-4c0f-a47d-2ce7dcb0fd92",
   "metadata": {},
   "outputs": [],
   "source": [
    "import gzip"
   ]
  },
  {
   "cell_type": "code",
   "execution_count": 4,
   "id": "f0d49c01-de4a-49e3-8809-549b29ca9837",
   "metadata": {
    "scrolled": true
   },
   "outputs": [
    {
     "name": "stdout",
     "output_type": "stream",
     "text": [
      "0,10,20,30,40,50,60,70,80,90,100,110,120,130,140,150,160,170,180,190,200,210,220,230,240,250,260,270,280,290,300,310,320,330,340,350,360,370,380,390,400,410,420,430,440,"
     ]
    }
   ],
   "source": [
    "#dna_sequences = []\n",
    "dna_seq_lenghts = []\n",
    "\n",
    "for idx, file in enumerate(file_names):\n",
    "    if(idx%10==0):\n",
    "        print(idx, end = \",\")\n",
    "    \n",
    "    with gzip.open(data_dir + file_names[idx], 'rt') as f:\n",
    "        for i, line in enumerate(f):\n",
    "            if i % 4 == 1:  # Every fourth line, starting with the second line (index 1)\n",
    "                temp = line.strip()\n",
    "                #dna_sequences.append(temp)\n",
    "                dna_seq_lenghts.append(len(temp))"
   ]
  },
  {
   "cell_type": "code",
   "execution_count": 5,
   "id": "940234b9-7fd8-4884-8f08-31280c57d68c",
   "metadata": {},
   "outputs": [],
   "source": [
    "import numpy as np\n",
    "dna_seq_lenghts = np.array(dna_seq_lenghts)"
   ]
  },
  {
   "cell_type": "code",
   "execution_count": 7,
   "id": "5be20d4d-9b28-49b3-8249-735b2ebe1934",
   "metadata": {},
   "outputs": [],
   "source": [
    "# len(dna_sequences) #287 Million"
   ]
  },
  {
   "cell_type": "code",
   "execution_count": 8,
   "id": "0ded0047-116f-4b1f-87a3-4f947d643b61",
   "metadata": {},
   "outputs": [
    {
     "data": {
      "text/plain": [
       "(287311244,)"
      ]
     },
     "execution_count": 8,
     "metadata": {},
     "output_type": "execute_result"
    }
   ],
   "source": [
    "dna_seq_lenghts.shape"
   ]
  },
  {
   "cell_type": "code",
   "execution_count": null,
   "id": "b4a95cae-0404-40a4-b19f-38ea2f3a0d14",
   "metadata": {},
   "outputs": [],
   "source": [
    "dna_seq_lenghts.mean(), dna_seq_lenghts.max(), dna_seq_lenghts.min()"
   ]
  },
  {
   "cell_type": "code",
   "execution_count": null,
   "id": "50228342-e640-4dcb-a976-1df2f3970e9c",
   "metadata": {},
   "outputs": [],
   "source": []
  },
  {
   "cell_type": "markdown",
   "id": "1b99aeda-3300-473a-8817-521bc7e12f1b",
   "metadata": {},
   "source": [
    "## Memory Usage"
   ]
  },
  {
   "cell_type": "code",
   "execution_count": null,
   "id": "5b9700aa-e330-4232-a0f9-7cf7dbb62cf9",
   "metadata": {},
   "outputs": [],
   "source": [
    "from pympler.asizeof import asizeof"
   ]
  },
  {
   "cell_type": "code",
   "execution_count": null,
   "id": "97a8cb41-a8d4-4b7a-9121-e157ccd58d65",
   "metadata": {},
   "outputs": [],
   "source": [
    "## Memory Usage for all 287 Million ~ 15GB\n",
    "(asizeof(dna_sequences[0])*len(dna_sequences))/(1024*1024*1024) #GB"
   ]
  },
  {
   "cell_type": "code",
   "execution_count": null,
   "id": "1bf18cc4-5e69-4340-aae1-0e8541e13a0d",
   "metadata": {},
   "outputs": [],
   "source": [
    "# Size of one DNA sequence # 56 bytes\n",
    "asizeof(dna_sequences[1]), asizeof(dna_sequences[3])"
   ]
  },
  {
   "cell_type": "code",
   "execution_count": null,
   "id": "6ea6e3f7-11dc-4bd1-941f-15377a38154f",
   "metadata": {},
   "outputs": [],
   "source": [
    "63*287311244/(1024*1024*1024)"
   ]
  },
  {
   "cell_type": "code",
   "execution_count": null,
   "id": "d93d9d2b-34aa-4086-a79c-4126193c4144",
   "metadata": {},
   "outputs": [],
   "source": [
    "import numpy as np\n",
    "seq = 'AAACTGCGTCAAGG'"
   ]
  },
  {
   "cell_type": "code",
   "execution_count": null,
   "id": "96577dd0-7528-4970-8e66-2e3c1352ab1d",
   "metadata": {},
   "outputs": [],
   "source": [
    "asizeof(seq)"
   ]
  }
 ],
 "metadata": {
  "kernelspec": {
   "display_name": "torch",
   "language": "python",
   "name": "torch"
  },
  "language_info": {
   "codemirror_mode": {
    "name": "ipython",
    "version": 3
   },
   "file_extension": ".py",
   "mimetype": "text/x-python",
   "name": "python",
   "nbconvert_exporter": "python",
   "pygments_lexer": "ipython3",
   "version": "3.12.4"
  }
 },
 "nbformat": 4,
 "nbformat_minor": 5
}
