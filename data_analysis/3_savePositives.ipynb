{
 "cells": [
  {
   "cell_type": "markdown",
   "id": "b00e0791-4a0d-4454-9853-73fed1f1b3d8",
   "metadata": {
    "tags": []
   },
   "source": [
    "### import libraries and paths"
   ]
  },
  {
   "cell_type": "code",
   "execution_count": 1,
   "id": "c7352d83-0a26-4f70-9021-3ac58e380a22",
   "metadata": {},
   "outputs": [],
   "source": [
    "import re\n",
    "import os\n",
    "import gzip\n",
    "import pandas as pd\n",
    "\n",
    "# only look at rounds files; not ZeroCycle\n",
    "data_dir = \"/n/holyscratch01/wadduwage_lab/ramith/SELEX/SELEX/\"\n",
    "data_dir = \"/home/ruh/SELEX_Cluster/\"\n",
    "\n",
    "file_names = sorted([x for x in os.listdir(data_dir) if ('.gz' in x and \"ZeroCycle\" not in x)])"
   ]
  },
  {
   "cell_type": "code",
   "execution_count": 2,
   "id": "7ef63092-9246-4584-b0ef-c0f80c217f9e",
   "metadata": {},
   "outputs": [],
   "source": [
    "assert len(file_names) == 2069"
   ]
  },
  {
   "cell_type": "code",
   "execution_count": 3,
   "id": "672da76f-8980-4145-9099-d97c14400834",
   "metadata": {},
   "outputs": [
    {
     "name": "stdout",
     "output_type": "stream",
     "text": [
      "found 2069 number of files:\n",
      "ALX3_ESAE_TGCAAG20NGA_1.txt.gz\n",
      "ALX3_ESAE_TGCAAG20NGA_2.txt.gz\n",
      "ALX3_ESAE_TGCAAG20NGA_3.txt.gz\n",
      "ALX3_ESAE_TGCAAG20NGA_4.txt.gz\n",
      "ALX3_ESZ_TGTAAA20NAAG_1.txt.gz\n",
      "ALX3_ESZ_TGTAAA20NAAG_2.txt.gz\n",
      "ALX3_ESZ_TGTAAA20NAAG_3.txt.gz\n",
      "ALX3_ESZ_TGTAAA20NAAG_4.txt.gz\n",
      "ALX4_ESW_TGTGTC20NGA_1.txt.gz\n",
      "ALX4_ESW_TGTGTC20NGA_2.txt.gz\n"
     ]
    }
   ],
   "source": [
    "print(f\"found {len(file_names)} number of files:\")\n",
    "for i in range(0,10):\n",
    "    print(file_names[i])"
   ]
  },
  {
   "cell_type": "code",
   "execution_count": 4,
   "id": "def20144-b2ea-4d93-a813-d12786f6dcc4",
   "metadata": {},
   "outputs": [],
   "source": [
    "def get_regex_matches(string, round_id, verbose = False):\n",
    "    \"\"\"\n",
    "        We are interested only a particular {round_id} so only retrieve those files from the base dir\n",
    "    \"\"\"\n",
    "    \n",
    "    pattern = rf\"([A-Za-z0-9-]+)_([A-Za-z]+)_([A-Za-z]+)(\\d+N)([A-Z]+)?_{round_id}\\.txt\\.gz\"\n",
    "    matches = re.findall(pattern, string)\n",
    "    \n",
    "    if matches and verbose:\n",
    "        code1, code2, code3, code4, code5, code6 = matches[0]\n",
    "        print(code1)  # Output: Alx1\n",
    "        print(code2)  # Output: ESZ\n",
    "        print(code3)  # Output: TAAAGC\n",
    "        print(code4)  # Output: 20N\n",
    "        print(code5)  # Output: CG\n",
    "\n",
    "    if not(matches):\n",
    "        if(verbose):\n",
    "            print(f\"Regex failed at {string}\")\n",
    "        return None \n",
    "        \n",
    "    return matches[0]\n",
    "    \n",
    "def additional_check(file_name, regex_out):\n",
    "    codes = file_name.split(\"_\")\n",
    "\n",
    "    assert regex_out[0]  == codes[0], f\"{file_name} --> {regex_out[0]}<>{codes[0]}\"\n",
    "    assert regex_out[1]  == codes[1]\n",
    "    #assert regex_out[-1] == codes[-1][:-len('.txt.gz')], f\"{file_name} --> {regex_out[-1]}<>{codes[-1]}\"\n",
    "\n",
    "    return"
   ]
  },
  {
   "cell_type": "code",
   "execution_count": null,
   "id": "c9580ef9-b078-414b-9e7b-4c781f689517",
   "metadata": {},
   "outputs": [],
   "source": []
  },
  {
   "cell_type": "code",
   "execution_count": null,
   "id": "17f56d3a-584c-4604-a17f-07f5398517c6",
   "metadata": {},
   "outputs": [],
   "source": []
  },
  {
   "cell_type": "code",
   "execution_count": 5,
   "id": "299556e9-9ef9-4bbc-a54f-916dd09e41c3",
   "metadata": {},
   "outputs": [],
   "source": [
    "## Dictionaries to store \n",
    "\n",
    "rp_dict    = { '1' : [], '2' : [], '3' : [], '4' : [], '5' : []} #proteins in each round_id\n",
    "rf_dict    = { '1' : [], '2' : [], '3' : [], '4' : [], '5' : []} #file_name in each round_id\n",
    "regex_dict = { '1' : [], '2' : [], '3' : [], '4' : [], '5' : []} #the whole segmented file keys"
   ]
  },
  {
   "cell_type": "markdown",
   "id": "17219aac-c575-4277-9051-022a7f719ec1",
   "metadata": {},
   "source": [
    "### looping through file names to gather some summary of data"
   ]
  },
  {
   "cell_type": "code",
   "execution_count": 6,
   "id": "1b70e3cf-4db9-413a-b037-455ecd1dc1c0",
   "metadata": {},
   "outputs": [
    {
     "name": "stdout",
     "output_type": "stream",
     "text": [
      "Round 1\n",
      "['ALX3_ESAE_TGCAAG20NGA_1.txt.gz', 'ALX3_ESZ_TGTAAA20NAAG_1.txt.gz', 'ALX4_ESW_TGTGTC20NGA_1.txt.gz']\n",
      "513\n",
      "ALX3 Zic3\n",
      "441\n",
      "__________\n",
      "Round 2\n",
      "['ALX3_ESAE_TGCAAG20NGA_2.txt.gz', 'ALX3_ESZ_TGTAAA20NAAG_2.txt.gz', 'ALX4_ESW_TGTGTC20NGA_2.txt.gz']\n",
      "516\n",
      "ALX3 Zic3\n",
      "443\n",
      "__________\n",
      "Round 3\n",
      "['ALX3_ESAE_TGCAAG20NGA_3.txt.gz', 'ALX3_ESZ_TGTAAA20NAAG_3.txt.gz', 'ALX4_ESW_TGTGTC20NGA_3.txt.gz']\n",
      "516\n",
      "ALX3 Zic3\n",
      "441\n",
      "__________\n",
      "Round 4\n",
      "['ALX3_ESAE_TGCAAG20NGA_4.txt.gz', 'ALX3_ESZ_TGTAAA20NAAG_4.txt.gz', 'ALX4_ESW_TGTGTC20NGA_4.txt.gz']\n",
      "518\n",
      "ALX3 Zic3\n",
      "444\n",
      "__________\n",
      "Round 5\n",
      "['Foxk1_ESQ_TGGGTA20NCG_5.txt.gz', 'Gbx1_ESQ_TCGGTT20NCG_5.txt.gz', 'Hlf_ESP_TCAATT20NTA_5.txt.gz']\n",
      "6\n",
      "Foxk1 Sox10\n",
      "6\n",
      "__________\n"
     ]
    }
   ],
   "source": [
    "for round_id in range(1,6):\n",
    "    \n",
    "    with open('temp.txt', 'w') as file:\n",
    "        \n",
    "        for string in file_names:\n",
    "            \n",
    "            # get file matches for round_id\n",
    "            matches = get_regex_matches(string, round_id)\n",
    "            \n",
    "            if(matches == None): # not something we are interested in\n",
    "                continue\n",
    "            else:\n",
    "                ## valid match\n",
    "                \n",
    "                rp_dict[str(round_id)].append(matches[0])\n",
    "                rf_dict[str(round_id)].append(string)\n",
    "                regex_dict[str(round_id)].append(matches)\n",
    "                \n",
    "                file.write(str(matches + (round_id,))+'\\n')\n",
    "                \n",
    "                # sanity check\n",
    "                additional_check(string, matches)\n",
    "\n",
    "                \n",
    "    ### Some stats\n",
    "    print(f\"Round {round_id}\")\n",
    "    print(rf_dict[str(round_id)][:3])\n",
    "    print(len(rp_dict[str(round_id)])) #number of proteins in round\n",
    "    \n",
    "    u_protiens = set(rp_dict[str(round_id)]) #number of unique proteins in round\n",
    "    print(sorted(u_protiens)[0], sorted(u_protiens)[-1])\n",
    "    print(len(u_protiens))\n",
    "    print(\"__________\")"
   ]
  },
  {
   "cell_type": "code",
   "execution_count": null,
   "id": "fdec01b5-a9f7-45fa-9ca3-634daf61bfaf",
   "metadata": {},
   "outputs": [],
   "source": []
  },
  {
   "cell_type": "markdown",
   "id": "c99146b2-9665-4658-abc4-f9f5847150a6",
   "metadata": {},
   "source": [
    "### Reading round 4 files to save positives 🤓"
   ]
  },
  {
   "cell_type": "code",
   "execution_count": 7,
   "id": "036ee901-7628-46b5-8ddb-0ba009fff15d",
   "metadata": {},
   "outputs": [],
   "source": [
    "def is_valid_dna(seq):\n",
    "    valid_chars = set('ACGT')\n",
    "    return all(c in valid_chars for c in seq)"
   ]
  },
  {
   "cell_type": "code",
   "execution_count": 8,
   "id": "a374ab48-55ec-4c2a-815a-aaa856c75dc1",
   "metadata": {},
   "outputs": [
    {
     "name": "stdout",
     "output_type": "stream",
     "text": [
      " Number of files we have = 518\n"
     ]
    }
   ],
   "source": [
    "## dictionary in which we will keep our sequence data\n",
    "ambiguous_dna = 0\n",
    "r_idx = 4\n",
    "\n",
    "r_dna_seq_len_dict = {str(r_idx): [] }\n",
    "r_dna_seq_dict     = {str(r_idx): [] }\n",
    "\n",
    "file_names = rf_dict[str(r_idx)] #retrieve file names\n",
    "\n",
    "print(f\" Number of files we have = {len(file_names)}\")"
   ]
  },
  {
   "cell_type": "code",
   "execution_count": 9,
   "id": "e2a2244f-b8d1-445a-9aa1-4127a457cd5e",
   "metadata": {},
   "outputs": [],
   "source": [
    "import csv"
   ]
  },
  {
   "cell_type": "code",
   "execution_count": 10,
   "id": "bebf47e4-a40f-4f52-b442-e92597dd8c96",
   "metadata": {},
   "outputs": [
    {
     "name": "stdout",
     "output_type": "stream",
     "text": [
      "0 --> ALX3\n",
      "50 --> Creb5\n",
      "100 --> ESX1\n",
      "150 --> GCM1\n",
      "200 --> HSF1\n",
      "250 --> MEF2B\n",
      "300 --> NOTO\n",
      "350 --> POU3F1\n",
      "400 --> SCRT1\n",
      "450 --> TCF4\n",
      "500 --> ZNF143\n"
     ]
    }
   ],
   "source": [
    "with open('positives.csv', 'w', newline='') as csv_file:\n",
    "    writer = csv.writer(csv_file)\n",
    "    writer.writerow(['protein_id', 'dna_fragment', 'label'])  # Write header\n",
    "\n",
    "    ## Open each round 4 protein file\n",
    "    for idx, file in enumerate(file_names):\n",
    "\n",
    "        ## extract out protein name\n",
    "        file_name    = file_names[idx]\n",
    "        protein_name = file_name.split(\"_\")[0]\n",
    "    \n",
    "        if(idx%50==0):\n",
    "            print(f\"{idx} --> {protein_name}\", end = \"\\n\")\n",
    "        \n",
    "        ## Open file\n",
    "        with gzip.open(data_dir + file_names[idx], 'rt') as f:\n",
    "            \n",
    "            assert protein_name == regex_dict[str(r_idx)][idx][0] #make sure that the protein name matches\n",
    "            \n",
    "            for i, line in enumerate(f):\n",
    "                if i % 4 == 1:  # Every fourth line, starting with the second line (index 1)\n",
    "                    temp = line.strip() #dna_fragment\n",
    "                    \n",
    "                    is_valid = is_valid_dna(temp)\n",
    "                    \n",
    "                    if(not(is_valid)):\n",
    "                        ambiguous_dna+=1\n",
    "                    else:\n",
    "                        writer.writerow([protein_name, temp, 1])"
   ]
  },
  {
   "cell_type": "code",
   "execution_count": 11,
   "id": "faa4a530-db59-45f9-b220-576a3ceacda1",
   "metadata": {},
   "outputs": [
    {
     "data": {
      "text/plain": [
       "1789089"
      ]
     },
     "execution_count": 11,
     "metadata": {},
     "output_type": "execute_result"
    }
   ],
   "source": [
    "ambiguous_dna"
   ]
  },
  {
   "cell_type": "code",
   "execution_count": 12,
   "id": "2bc9785a-85d3-45ce-90ae-f55602ad6cc0",
   "metadata": {},
   "outputs": [
    {
     "data": {
      "text/plain": [
       "'ALX3_ESAE_TGCAAG20NGA_4.txt.gz'"
      ]
     },
     "execution_count": 12,
     "metadata": {},
     "output_type": "execute_result"
    }
   ],
   "source": [
    "file_names[0]"
   ]
  },
  {
   "cell_type": "code",
   "execution_count": null,
   "id": "3bd7229f-b364-476b-af6d-4bb7b60169a5",
   "metadata": {},
   "outputs": [],
   "source": []
  }
 ],
 "metadata": {
  "kernelspec": {
   "display_name": "torch",
   "language": "python",
   "name": "torch"
  },
  "language_info": {
   "codemirror_mode": {
    "name": "ipython",
    "version": 3
   },
   "file_extension": ".py",
   "mimetype": "text/x-python",
   "name": "python",
   "nbconvert_exporter": "python",
   "pygments_lexer": "ipython3",
   "version": "3.12.4"
  }
 },
 "nbformat": 4,
 "nbformat_minor": 5
}
