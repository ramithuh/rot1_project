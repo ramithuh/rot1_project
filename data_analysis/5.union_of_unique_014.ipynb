{
 "cells": [
  {
   "cell_type": "code",
   "execution_count": 1,
   "id": "28ed34be-fc6e-42eb-b342-5d83e880c8a6",
   "metadata": {
    "tags": []
   },
   "outputs": [],
   "source": [
    "import re\n",
    "import os\n",
    "import sys\n",
    "import gzip\n",
    "import pandas as pd\n",
    "\n",
    "sys.path.append(\"../\")"
   ]
  },
  {
   "cell_type": "code",
   "execution_count": 2,
   "id": "9e3c38c2-6b87-46df-a7bc-3033191c5613",
   "metadata": {
    "tags": []
   },
   "outputs": [],
   "source": [
    "data_dir = \"/net/dali/home/chikina/shared_data/SELEX\"\n",
    "\n",
    "valid_chars = set('ACGT')\n",
    "\n",
    "def is_valid_dna(seq):    \n",
    "    return all(c in valid_chars for c in seq)"
   ]
  },
  {
   "cell_type": "code",
   "execution_count": 3,
   "id": "866e145f-963c-47d0-8e34-347fb869a36b",
   "metadata": {
    "tags": []
   },
   "outputs": [],
   "source": [
    "df = pd.read_csv('protein_info.csv')\n",
    "all_proteins = set(df['HNGC-name'].tolist())"
   ]
  },
  {
   "cell_type": "code",
   "execution_count": 4,
   "id": "9cad3e54-3811-46b5-94f3-b453a26f2f35",
   "metadata": {
    "tags": []
   },
   "outputs": [],
   "source": [
    "# all_proteins"
   ]
  },
  {
   "cell_type": "code",
   "execution_count": 7,
   "id": "68e31222-400b-42f0-b008-c4b7d91a6b45",
   "metadata": {
    "tags": []
   },
   "outputs": [
    {
     "name": "stdout",
     "output_type": "stream",
     "text": [
      "0,10,20,30,40,50,60,70,80,90,100,110,120,130,140,150,160,170,180,190,200,210,220,230,240,250,260,270,280,290,300,310,320,330,340,350,360,370,380,390,400,410,420,430,440,"
     ]
    }
   ],
   "source": [
    "unique_zero_cycle_dna_seq = set()\n",
    "\n",
    "count = 0\n",
    "\n",
    "zero_cycle_file_names = sorted([x for x in os.listdir(data_dir) if ('.gz' in x and \"ZeroCycle\" in x)])\n",
    "\n",
    "for idx, file in enumerate(zero_cycle_file_names):\n",
    "    if(idx%10==0):\n",
    "        print(idx, end = \",\")\n",
    "    \n",
    "    with gzip.open(f\"{data_dir}/{zero_cycle_file_names[idx]}\", 'rt') as f:\n",
    "        for i, line in enumerate(f):\n",
    "            if i % 4 == 1:  # Every fourth line, starting with the second line (index 1)\n",
    "                temp = line.strip()\n",
    "                \n",
    "                # add valids to a \n",
    "                if((is_valid_dna(temp))):\n",
    "                    #zero_cycle_dna_seq.append(temp)\n",
    "                    unique_zero_cycle_dna_seq.add(temp)\n",
    "                    unique_zero_cycle_dna_seq.add(temp[::-1])\n",
    "                    count+=1"
   ]
  },
  {
   "cell_type": "code",
   "execution_count": 8,
   "id": "bead1707-0782-4fd9-a413-4096f7d4f392",
   "metadata": {
    "tags": []
   },
   "outputs": [
    {
     "data": {
      "text/plain": [
       "287265215"
      ]
     },
     "execution_count": 8,
     "metadata": {},
     "output_type": "execute_result"
    }
   ],
   "source": [
    "count"
   ]
  },
  {
   "cell_type": "code",
   "execution_count": 11,
   "id": "cb21fae2-f0e4-46f1-8d8d-c5bc5c8736e8",
   "metadata": {
    "tags": []
   },
   "outputs": [
    {
     "name": "stdout",
     "output_type": "stream",
     "text": [
      "0,10,20,30,40,50,60,70,80,90,100,Skipping Egr1\n",
      "110,120,130,140,150,160,170,180,190,200,210,220,230,240,250,260,270,280,290,300,310,320,330,340,350,360,370,380,390,400,410,420,430,440,450,460,470,480,490,500,510,"
     ]
    },
    {
     "data": {
      "text/plain": [
       "1212165697"
      ]
     },
     "execution_count": 11,
     "metadata": {},
     "output_type": "execute_result"
    }
   ],
   "source": [
    "unique_round_one_dna_seq = set()\n",
    "\n",
    "count = 0\n",
    "\n",
    "round_one_file_names = sorted([x for x in os.listdir(data_dir) if ('.gz' in x and \"_1.txt.gz\" in x)])\n",
    "\n",
    "for idx, file in enumerate(round_one_file_names):\n",
    "    if(idx%10==0):\n",
    "        print(idx, end = \",\")\n",
    "        \n",
    "    prot_id = round_one_file_names[idx].split(\"_\")[0]\n",
    "    \n",
    "    if(prot_id not in all_proteins):\n",
    "        print(f\"Skipping {prot_id}\")\n",
    "        continue\n",
    "    \n",
    "    with gzip.open(f\"{data_dir}/{round_one_file_names[idx]}\", 'rt') as f:\n",
    "        for i, line in enumerate(f):\n",
    "            if i % 4 == 1:  # Every fourth line, starting with the second line (index 1)\n",
    "                temp = line.strip()\n",
    "                \n",
    "                # add valids to a \n",
    "                if((is_valid_dna(temp))):\n",
    "                    \n",
    "                    unique_round_one_dna_seq.add(temp)\n",
    "                    unique_round_one_dna_seq.add(temp[::-1])\n",
    "                    count+=1\n",
    "                    \n",
    "count"
   ]
  },
  {
   "cell_type": "code",
   "execution_count": null,
   "id": "6ac150d1-0563-4604-a388-8277a5555601",
   "metadata": {},
   "outputs": [],
   "source": []
  },
  {
   "cell_type": "code",
   "execution_count": 13,
   "id": "bdae3267-dc3b-4785-a9c1-6153e3fdda6f",
   "metadata": {
    "tags": []
   },
   "outputs": [
    {
     "name": "stdout",
     "output_type": "stream",
     "text": [
      "0,10,20,30,40,50,60,70,80,90,100,110,Skipping Egr1\n",
      "120,130,140,150,160,170,180,190,200,210,220,230,240,250,260,270,280,290,300,310,320,330,340,350,360,370,380,390,400,410,420,430,440,450,460,470,480,490,500,510,"
     ]
    },
    {
     "data": {
      "text/plain": [
       "802906198"
      ]
     },
     "execution_count": 13,
     "metadata": {},
     "output_type": "execute_result"
    }
   ],
   "source": [
    "unique_round_four_dna_seq = set()\n",
    "\n",
    "count = 0\n",
    "\n",
    "round_four_file_names = sorted([x for x in os.listdir(data_dir) if ('.gz' in x and \"_4.txt.gz\" in x)])\n",
    "\n",
    "for idx, file in enumerate(round_four_file_names):\n",
    "    if(idx%10==0):\n",
    "        print(idx, end = \",\")\n",
    "    \n",
    "    prot_id = round_four_file_names[idx].split(\"_\")[0]\n",
    "    \n",
    "    if(prot_id not in all_proteins):\n",
    "        print(f\"Skipping {prot_id}\")\n",
    "        continue\n",
    "    \n",
    "    with gzip.open(f\"{data_dir}/{round_four_file_names[idx]}\", 'rt') as f:\n",
    "        for i, line in enumerate(f):\n",
    "            if i % 4 == 1:  # Every fourth line, starting with the second line (index 1)\n",
    "                temp = line.strip()\n",
    "                \n",
    "                # add valids to a \n",
    "                if((is_valid_dna(temp))):\n",
    "                    \n",
    "                    unique_round_four_dna_seq.add(temp)\n",
    "                    unique_round_four_dna_seq.add(temp[::-1])\n",
    "                    count+=1\n",
    "                    \n",
    "count"
   ]
  },
  {
   "cell_type": "markdown",
   "id": "f9f4236b-82a8-4601-91c1-7e2d38a79701",
   "metadata": {},
   "source": [
    "## Summarizing the unique count (considering both forward & reverse)"
   ]
  },
  {
   "cell_type": "code",
   "execution_count": 14,
   "id": "e5971162-14b1-49e3-86f9-00dd77b16e08",
   "metadata": {
    "tags": []
   },
   "outputs": [
    {
     "name": "stdout",
     "output_type": "stream",
     "text": [
      "Round 0 : 573818279\n"
     ]
    }
   ],
   "source": [
    "print(f\"Round 0 : {len(unique_zero_cycle_dna_seq)}\")"
   ]
  },
  {
   "cell_type": "code",
   "execution_count": 15,
   "id": "b0f8b0d4-c66b-4f70-8170-7babdd2c77b2",
   "metadata": {
    "tags": []
   },
   "outputs": [
    {
     "name": "stdout",
     "output_type": "stream",
     "text": [
      "Round 1 : 2094201073\n"
     ]
    }
   ],
   "source": [
    "print(f\"Round 1 : {len(unique_round_one_dna_seq)}\")"
   ]
  },
  {
   "cell_type": "code",
   "execution_count": 16,
   "id": "9697ad90-5835-4a7c-81ef-a4c750172a42",
   "metadata": {
    "tags": []
   },
   "outputs": [
    {
     "name": "stdout",
     "output_type": "stream",
     "text": [
      "Round 4 : 783078213\n"
     ]
    }
   ],
   "source": [
    "print(f\"Round 4 : {len(unique_round_four_dna_seq)}\")"
   ]
  },
  {
   "cell_type": "markdown",
   "id": "5052137e-291b-4c59-95dd-1a4899c06eab",
   "metadata": {},
   "source": [
    "### Looking at intersections:"
   ]
  },
  {
   "cell_type": "code",
   "execution_count": 17,
   "id": "8de3c0b9-3fa3-48f2-93b6-4d0cc16bf6fd",
   "metadata": {
    "tags": []
   },
   "outputs": [],
   "source": [
    "intersection_0_4 = unique_zero_cycle_dna_seq.intersection(unique_round_four_dna_seq)"
   ]
  },
  {
   "cell_type": "code",
   "execution_count": 27,
   "id": "448e3c2f-a061-4c41-9668-cc6affdbb068",
   "metadata": {
    "tags": []
   },
   "outputs": [
    {
     "name": "stdout",
     "output_type": "stream",
     "text": [
      "Intersection of 0 & 4: 973875\n"
     ]
    }
   ],
   "source": [
    "print(f\"Intersection of 0 & 4: {len(intersection_0_4)}\")"
   ]
  },
  {
   "cell_type": "code",
   "execution_count": 19,
   "id": "68de7eac-1ed6-4e9f-9cd8-3e2f669e27dd",
   "metadata": {
    "tags": []
   },
   "outputs": [],
   "source": [
    "intersection_1_4 = unique_round_one_dna_seq.intersection(unique_round_four_dna_seq)"
   ]
  },
  {
   "cell_type": "code",
   "execution_count": 28,
   "id": "47d9b907-ca30-41ed-9be7-de6d8809de68",
   "metadata": {
    "tags": []
   },
   "outputs": [
    {
     "name": "stdout",
     "output_type": "stream",
     "text": [
      "Intersection of 1 & 4: 47750344\n"
     ]
    }
   ],
   "source": [
    "print(f\"Intersection of 1 & 4: {len(intersection_1_4)}\")"
   ]
  },
  {
   "cell_type": "code",
   "execution_count": 21,
   "id": "ac07be58-336d-4f8d-9cbc-968d92f62beb",
   "metadata": {
    "tags": []
   },
   "outputs": [],
   "source": [
    "intersection_0_1 = unique_zero_cycle_dna_seq.intersection(unique_round_one_dna_seq)"
   ]
  },
  {
   "cell_type": "code",
   "execution_count": 29,
   "id": "207df896-e039-45a7-9fab-46672e6f171d",
   "metadata": {
    "tags": []
   },
   "outputs": [
    {
     "name": "stdout",
     "output_type": "stream",
     "text": [
      "Intersection of 0 & 1: 2089325\n"
     ]
    }
   ],
   "source": [
    "print(f\"Intersection of 0 & 1: {len(intersection_0_1)}\")"
   ]
  },
  {
   "cell_type": "code",
   "execution_count": 23,
   "id": "9120eef5-e641-436d-a446-c9426ff39ad9",
   "metadata": {
    "tags": []
   },
   "outputs": [],
   "source": [
    "intersection_0_1_4 = unique_zero_cycle_dna_seq.intersection(unique_round_one_dna_seq,unique_round_four_dna_seq)"
   ]
  },
  {
   "cell_type": "code",
   "execution_count": 30,
   "id": "5ec9c04f-4bfd-4cab-85b8-4b6c389fcd06",
   "metadata": {
    "tags": []
   },
   "outputs": [
    {
     "name": "stdout",
     "output_type": "stream",
     "text": [
      "Intersection of 0 & 1 & 4: 137254\n"
     ]
    }
   ],
   "source": [
    "print(f\"Intersection of 0 & 1 & 4: {len(intersection_0_1_4)}\")"
   ]
  },
  {
   "cell_type": "markdown",
   "id": "23ce0a09-81c2-4d48-954f-f6076e00ad6c",
   "metadata": {},
   "source": [
    "### Set union of 0,1,4"
   ]
  },
  {
   "cell_type": "code",
   "execution_count": 31,
   "id": "af61e2a5-0d06-4ebd-aab1-67c27be38c30",
   "metadata": {
    "tags": []
   },
   "outputs": [],
   "source": [
    "union_set = unique_zero_cycle_dna_seq.union(unique_round_one_dna_seq, unique_round_four_dna_seq)"
   ]
  },
  {
   "cell_type": "code",
   "execution_count": 32,
   "id": "404cf92f-9749-480a-a2c4-ea4df77b8f7d",
   "metadata": {
    "tags": []
   },
   "outputs": [
    {
     "name": "stdout",
     "output_type": "stream",
     "text": [
      "Union of 0 & 1 & 4: 3400421275\n"
     ]
    }
   ],
   "source": [
    "print(f\"Union of 0 & 1 & 4: {len(union_set)}\")"
   ]
  },
  {
   "cell_type": "code",
   "execution_count": 33,
   "id": "186bbb71-f3bd-4559-8e0b-a6e21a768bb8",
   "metadata": {
    "tags": []
   },
   "outputs": [],
   "source": [
    "save_dir = \"/net/dali/home/mscbio/rah304/shared_data/SELEX/dna_fragments\""
   ]
  },
  {
   "cell_type": "code",
   "execution_count": 34,
   "id": "86da3b81-b653-4bcc-ba9d-372f408d8b60",
   "metadata": {
    "tags": []
   },
   "outputs": [],
   "source": [
    "def write_set_to_file(large_set, filename):\n",
    "    with open(filename, 'w', buffering=1024*1024) as f:\n",
    "        for item in large_set:\n",
    "            f.write(f\"{item}\\n\")"
   ]
  },
  {
   "cell_type": "code",
   "execution_count": 35,
   "id": "384c71e0-c2c3-4c9b-940c-91f8e2c41198",
   "metadata": {
    "tags": []
   },
   "outputs": [],
   "source": [
    "write_set_to_file(unique_zero_cycle_dna_seq, f\"{save_dir}/ZeroCycle_unique_fragments.txt\")"
   ]
  },
  {
   "cell_type": "code",
   "execution_count": null,
   "id": "16d1a322-a0a2-4234-be8a-4a185f026d57",
   "metadata": {
    "tags": []
   },
   "outputs": [],
   "source": [
    "write_set_to_file(unique_round_one_dna_seq, f\"{save_dir}/round_1_unique_fragments.txt\")"
   ]
  },
  {
   "cell_type": "code",
   "execution_count": null,
   "id": "dc267f91-26fc-4713-a5ea-b3cd161d7ce8",
   "metadata": {
    "tags": []
   },
   "outputs": [],
   "source": [
    "write_set_to_file(unique_round_four_dna_seq, f\"{save_dir}/round_4_unique_fragments.txt\")"
   ]
  },
  {
   "cell_type": "code",
   "execution_count": null,
   "id": "cb83f9a2-a67c-4637-bc59-4bb8e034473d",
   "metadata": {},
   "outputs": [],
   "source": []
  }
 ],
 "metadata": {
  "kernelspec": {
   "display_name": "prot_dna",
   "language": "python",
   "name": "prot_dna"
  },
  "language_info": {
   "codemirror_mode": {
    "name": "ipython",
    "version": 3
   },
   "file_extension": ".py",
   "mimetype": "text/x-python",
   "name": "python",
   "nbconvert_exporter": "python",
   "pygments_lexer": "ipython3",
   "version": "3.11.9"
  }
 },
 "nbformat": 4,
 "nbformat_minor": 5
}
