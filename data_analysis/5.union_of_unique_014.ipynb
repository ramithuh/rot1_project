{
 "cells": [
  {
   "cell_type": "code",
   "execution_count": 1,
   "id": "28ed34be-fc6e-42eb-b342-5d83e880c8a6",
   "metadata": {},
   "outputs": [],
   "source": [
    "import re\n",
    "import os\n",
    "import sys\n",
    "import gzip\n",
    "import pandas as pd\n",
    "\n",
    "sys.path.append(\"../\")"
   ]
  },
  {
   "cell_type": "code",
   "execution_count": 2,
   "id": "9e3c38c2-6b87-46df-a7bc-3033191c5613",
   "metadata": {},
   "outputs": [],
   "source": [
    "data_dir = \"/net/dali/home/chikina/shared_data/SELEX\"\n",
    "\n",
    "valid_chars = set('ACGT')\n",
    "\n",
    "def is_valid_dna(seq):    \n",
    "    return all(c in valid_chars for c in seq)"
   ]
  },
  {
   "cell_type": "code",
   "execution_count": null,
   "id": "68e31222-400b-42f0-b008-c4b7d91a6b45",
   "metadata": {},
   "outputs": [
    {
     "name": "stdout",
     "output_type": "stream",
     "text": [
      "0,10,20,30,40,50,60,70,80,90,100,110,120,130,140,150,160,170,180,190,"
     ]
    }
   ],
   "source": [
    "unique_zero_cycle_dna_seq = set()\n",
    "\n",
    "count = 0\n",
    "\n",
    "zero_cycle_file_names = sorted([x for x in os.listdir(data_dir) if ('.gz' in x and \"ZeroCycle\" in x)])\n",
    "\n",
    "for idx, file in enumerate(zero_cycle_file_names):\n",
    "    if(idx%10==0):\n",
    "        print(idx, end = \",\")\n",
    "    \n",
    "    with gzip.open(f\"{data_dir}/{zero_cycle_file_names[idx]}\", 'rt') as f:\n",
    "        for i, line in enumerate(f):\n",
    "            if i % 4 == 1:  # Every fourth line, starting with the second line (index 1)\n",
    "                temp = line.strip()\n",
    "                \n",
    "                # add valids to a \n",
    "                if((is_valid_dna(temp))):\n",
    "                    #zero_cycle_dna_seq.append(temp)\n",
    "                    unique_zero_cycle_dna_seq.add(temp)\n",
    "                    unique_zero_cycle_dna_seq.add(temp[::-1])\n",
    "                    count+=1"
   ]
  },
  {
   "cell_type": "code",
   "execution_count": null,
   "id": "bead1707-0782-4fd9-a413-4096f7d4f392",
   "metadata": {},
   "outputs": [],
   "source": []
  }
 ],
 "metadata": {
  "kernelspec": {
   "display_name": "rot1",
   "language": "python",
   "name": "rot1"
  },
  "language_info": {
   "codemirror_mode": {
    "name": "ipython",
    "version": 3
   },
   "file_extension": ".py",
   "mimetype": "text/x-python",
   "name": "python",
   "nbconvert_exporter": "python",
   "pygments_lexer": "ipython3",
   "version": "3.11.9"
  }
 },
 "nbformat": 4,
 "nbformat_minor": 5
}
