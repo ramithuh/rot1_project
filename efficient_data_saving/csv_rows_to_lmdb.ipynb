{
 "cells": [
  {
   "cell_type": "code",
   "execution_count": 1,
   "id": "222773ac-7b5c-492c-90d4-c7484ca29ffd",
   "metadata": {},
   "outputs": [],
   "source": [
    "def cleanup(input_string):\n",
    "    return input_string.replace('N', '')"
   ]
  },
  {
   "cell_type": "code",
   "execution_count": 2,
   "id": "77000730-a619-47ff-bf8f-7a6d73208e68",
   "metadata": {},
   "outputs": [],
   "source": [
    "import pandas as pd\n",
    "import lmdb\n",
    "import pickle\n",
    "import ast\n",
    "\n",
    "# Function to store CSV data in LMDB\n",
    "def store_csv_in_lmdb(db_name, csv_file, lmdb_path):\n",
    "    \n",
    "    \n",
    "    # Read CSV file\n",
    "    df = pd.read_csv(csv_file)\n",
    "    \n",
    "    # Create LMDB environment\n",
    "    map_size = 4 * 1024 * 1024 * 1024 * 1024  # 6TB in bytes\n",
    "    env = lmdb.open(lmdb_path, map_size=map_size, max_dbs=10)  # 1GB map size\n",
    "    db_ = env.open_db(str.encode(db_name))\n",
    "    \n",
    "    with env.begin(write=True) as txn:\n",
    "        \n",
    "        for index, row in df.iterrows():\n",
    "            # Use DNA sequence as key\n",
    "            key = cleanup(row['sequence']).encode()\n",
    "            \n",
    "            # Convert string representation of list to actual list\n",
    "            embedding = ast.literal_eval(row['dna_embedding'])\n",
    "            \n",
    "            # Serialize embedding as value\n",
    "            value = pickle.dumps(embedding)\n",
    "            \n",
    "            # Store in LMDB\n",
    "            txn.put(key, value, db = db_)\n",
    "    \n",
    "    print(f\"Stored {len(df)} rows in LMDB\")"
   ]
  },
  {
   "cell_type": "code",
   "execution_count": 3,
   "id": "16ac9692-c880-442d-a9f7-1911e89cf208",
   "metadata": {},
   "outputs": [],
   "source": [
    "# Function to retrieve a value from LMDB\n",
    "def get_embedding_from_lmdb(db_name, lmdb_path, dna_sequence):\n",
    "    env = lmdb.open(lmdb_path, readonly=True, max_dbs=10)\n",
    "\n",
    "    db_ = env.open_db(str.encode(db_name)) #throws an error if database doesnt exist\n",
    "\n",
    "    with env.begin(write=False) as txn:\n",
    "        value = txn.get(dna_sequence.encode(), db = db_)\n",
    "        if value:\n",
    "            return pickle.loads(value)\n",
    "        else:\n",
    "            return None"
   ]
  },
  {
   "cell_type": "code",
   "execution_count": 4,
   "id": "92b7b8b8-5d30-4497-bd1f-f09dcb1ace3c",
   "metadata": {},
   "outputs": [],
   "source": [
    "# Example usage\n",
    "csv_file  = \"dna_embeddings.csv\"  # Replace with your CSV file path\n",
    "lmdb_path = \"dna_embeddings_lmdb\"  # Replace with desired LMDB database path"
   ]
  },
  {
   "cell_type": "code",
   "execution_count": 5,
   "id": "32592f78-8dcd-4fae-8ee4-cfdfea10406e",
   "metadata": {},
   "outputs": [
    {
     "name": "stdout",
     "output_type": "stream",
     "text": [
      "Stored 9 rows in LMDB\n",
      "Stored 9 rows in LMDB\n"
     ]
    }
   ],
   "source": [
    "# Store CSV in LMDB\n",
    "store_csv_in_lmdb(\"database1\", csv_file, lmdb_path)\n",
    "store_csv_in_lmdb(\"database2\", csv_file, lmdb_path)"
   ]
  },
  {
   "cell_type": "code",
   "execution_count": 6,
   "id": "be65b88b-89e6-4963-90f4-7fb8bf82484f",
   "metadata": {},
   "outputs": [],
   "source": [
    "# Retrieve and print a specific embedding\n",
    "dna_sequence = \"TTCTCACGTAATGAACATTATAATCTTCTCACTCAAGATG\""
   ]
  },
  {
   "cell_type": "code",
   "execution_count": 7,
   "id": "81852852-e2b0-4658-bd9b-6c701800c65a",
   "metadata": {},
   "outputs": [],
   "source": [
    "embedding = get_embedding_from_lmdb('database1', lmdb_path, cleanup(dna_sequence))"
   ]
  },
  {
   "cell_type": "code",
   "execution_count": 8,
   "id": "0cfa8003-692c-4375-a257-ac1e77916a9a",
   "metadata": {},
   "outputs": [
    {
     "data": {
      "text/plain": [
       "480"
      ]
     },
     "execution_count": 8,
     "metadata": {},
     "output_type": "execute_result"
    }
   ],
   "source": [
    "len(embedding)"
   ]
  },
  {
   "cell_type": "code",
   "execution_count": 9,
   "id": "ac825568-f53c-4717-bf88-40a54796ece9",
   "metadata": {},
   "outputs": [
    {
     "ename": "ReadonlyError",
     "evalue": "mdb_dbi_open: Permission denied",
     "output_type": "error",
     "traceback": [
      "\u001b[0;31m---------------------------------------------------------------------------\u001b[0m",
      "\u001b[0;31mReadonlyError\u001b[0m                             Traceback (most recent call last)",
      "Cell \u001b[0;32mIn[9], line 1\u001b[0m\n\u001b[0;32m----> 1\u001b[0m embedding \u001b[38;5;241m=\u001b[39m get_embedding_from_lmdb(\u001b[38;5;124m'\u001b[39m\u001b[38;5;124mdatabase3\u001b[39m\u001b[38;5;124m'\u001b[39m, lmdb_path, cleanup(dna_sequence))\n",
      "Cell \u001b[0;32mIn[3], line 5\u001b[0m, in \u001b[0;36mget_embedding_from_lmdb\u001b[0;34m(db_name, lmdb_path, dna_sequence)\u001b[0m\n\u001b[1;32m      2\u001b[0m \u001b[38;5;28;01mdef\u001b[39;00m \u001b[38;5;21mget_embedding_from_lmdb\u001b[39m(db_name, lmdb_path, dna_sequence):\n\u001b[1;32m      3\u001b[0m     env \u001b[38;5;241m=\u001b[39m lmdb\u001b[38;5;241m.\u001b[39mopen(lmdb_path, readonly\u001b[38;5;241m=\u001b[39m\u001b[38;5;28;01mTrue\u001b[39;00m, max_dbs\u001b[38;5;241m=\u001b[39m\u001b[38;5;241m10\u001b[39m)\n\u001b[0;32m----> 5\u001b[0m     db_ \u001b[38;5;241m=\u001b[39m env\u001b[38;5;241m.\u001b[39mopen_db(\u001b[38;5;28mstr\u001b[39m\u001b[38;5;241m.\u001b[39mencode(db_name)) \u001b[38;5;66;03m#throws an error if database doesnt exist\u001b[39;00m\n\u001b[1;32m      7\u001b[0m     \u001b[38;5;28;01mwith\u001b[39;00m env\u001b[38;5;241m.\u001b[39mbegin(write\u001b[38;5;241m=\u001b[39m\u001b[38;5;28;01mFalse\u001b[39;00m) \u001b[38;5;28;01mas\u001b[39;00m txn:\n\u001b[1;32m      8\u001b[0m         value \u001b[38;5;241m=\u001b[39m txn\u001b[38;5;241m.\u001b[39mget(dna_sequence\u001b[38;5;241m.\u001b[39mencode(), db \u001b[38;5;241m=\u001b[39m db_)\n",
      "\u001b[0;31mReadonlyError\u001b[0m: mdb_dbi_open: Permission denied"
     ]
    }
   ],
   "source": [
    "#throws an error for files not found\n",
    "embedding = get_embedding_from_lmdb('database3', lmdb_path, cleanup(dna_sequence))"
   ]
  },
  {
   "cell_type": "code",
   "execution_count": 10,
   "id": "6a99fa85-a8f1-4f43-82f4-dc2da16b33b1",
   "metadata": {},
   "outputs": [
    {
     "name": "stdout",
     "output_type": "stream",
     "text": [
      "LMDB at dna_embeddings_lmdb:\n",
      "\n",
      "Database: main\n",
      "  Entries: 2\n",
      "  Page size: 4096 bytes\n",
      "  Tree depth: 1\n",
      "\n",
      "Database: database1\n",
      "  Entries: 9\n",
      "  Page size: 4096 bytes\n",
      "  Tree depth: 1\n",
      "\n",
      "Database: database2\n",
      "  Entries: 9\n",
      "  Page size: 4096 bytes\n",
      "  Tree depth: 1\n"
     ]
    }
   ],
   "source": [
    "def summarize_lmdb(lmdb_path):\n",
    "    env = lmdb.open(lmdb_path, readonly=True, max_dbs=10)\n",
    "\n",
    "    try:\n",
    "        with env.begin() as txn:\n",
    "            cursor = txn.cursor()\n",
    "            \n",
    "            print(f\"LMDB at {lmdb_path}:\")\n",
    "            \n",
    "            # Summarize main database\n",
    "            main_stat = txn.stat()\n",
    "            print(\"\\nDatabase: main\")\n",
    "            print(f\"  Entries: {main_stat['entries']}\")\n",
    "            print(f\"  Page size: {main_stat['psize']} bytes\")\n",
    "            print(f\"  Tree depth: {main_stat['depth']}\")\n",
    "            \n",
    "            # Iterate through all keys (database names)\n",
    "            for key in cursor.iternext(keys=True, values=False):\n",
    "                db_name = key.decode('utf-8')\n",
    "                db = env.open_db(key)\n",
    "                \n",
    "                with env.begin(db=db) as db_txn:\n",
    "                    stat = db_txn.stat()\n",
    "                \n",
    "                print(f\"\\nDatabase: {db_name}\")\n",
    "                print(f\"  Entries: {stat['entries']}\")\n",
    "                print(f\"  Page size: {stat['psize']} bytes\")\n",
    "                print(f\"  Tree depth: {stat['depth']}\")\n",
    "    \n",
    "    finally:\n",
    "        env.close()\n",
    "\n",
    "# Usage\n",
    "summarize_lmdb(lmdb_path)"
   ]
  },
  {
   "cell_type": "code",
   "execution_count": null,
   "id": "085e8782-1ccc-4ce0-ab06-42028bfdf612",
   "metadata": {},
   "outputs": [],
   "source": []
  },
  {
   "cell_type": "code",
   "execution_count": null,
   "id": "64db7b8e-46b6-494f-9a2b-70b380f83f09",
   "metadata": {},
   "outputs": [],
   "source": []
  },
  {
   "cell_type": "code",
   "execution_count": null,
   "id": "6be15b73-4c83-4523-885c-1578073be941",
   "metadata": {},
   "outputs": [],
   "source": []
  },
  {
   "cell_type": "code",
   "execution_count": null,
   "id": "e03234fd-65ae-44a9-9084-6fe5b7ff751c",
   "metadata": {},
   "outputs": [],
   "source": []
  },
  {
   "cell_type": "code",
   "execution_count": null,
   "id": "0d98db48-9d82-4786-a05d-06e0a60005bb",
   "metadata": {},
   "outputs": [],
   "source": []
  }
 ],
 "metadata": {
  "kernelspec": {
   "display_name": "torch",
   "language": "python",
   "name": "torch"
  },
  "language_info": {
   "codemirror_mode": {
    "name": "ipython",
    "version": 3
   },
   "file_extension": ".py",
   "mimetype": "text/x-python",
   "name": "python",
   "nbconvert_exporter": "python",
   "pygments_lexer": "ipython3",
   "version": "3.12.4"
  }
 },
 "nbformat": 4,
 "nbformat_minor": 5
}
