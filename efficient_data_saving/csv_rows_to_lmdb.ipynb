{
 "cells": [
  {
   "cell_type": "code",
   "execution_count": 1,
   "id": "222773ac-7b5c-492c-90d4-c7484ca29ffd",
   "metadata": {},
   "outputs": [],
   "source": [
    "def cleanup(input_string):\n",
    "    return input_string.replace('N', '')"
   ]
  },
  {
   "cell_type": "code",
   "execution_count": null,
   "id": "f758a054-7282-44b4-bc9c-3d2d6f94af22",
   "metadata": {},
   "outputs": [],
   "source": []
  },
  {
   "cell_type": "code",
   "execution_count": 2,
   "id": "77000730-a619-47ff-bf8f-7a6d73208e68",
   "metadata": {},
   "outputs": [
    {
     "name": "stdout",
     "output_type": "stream",
     "text": [
      "Stored 9 rows in LMDB\n"
     ]
    }
   ],
   "source": [
    "import pandas as pd\n",
    "import lmdb\n",
    "import pickle\n",
    "import ast\n",
    "\n",
    "# Function to store CSV data in LMDB\n",
    "def store_csv_in_lmdb(csv_file, lmdb_path):\n",
    "    # Read CSV file\n",
    "    df = pd.read_csv(csv_file)\n",
    "    \n",
    "    # Create LMDB environment\n",
    "    map_size = 4 * 1024 * 1024 * 1024 * 1024  # 6TB in bytes\n",
    "    env = lmdb.open(lmdb_path, map_size=map_size)  # 1GB map size\n",
    "    \n",
    "    with env.begin(write=True) as txn:\n",
    "        for index, row in df.iterrows():\n",
    "            # Use DNA sequence as key\n",
    "            key = cleanup(row['sequence']).encode()\n",
    "            \n",
    "            # Convert string representation of list to actual list\n",
    "            embedding = ast.literal_eval(row['dna_embedding'])\n",
    "            \n",
    "            # Serialize embedding as value\n",
    "            value = pickle.dumps(embedding)\n",
    "            \n",
    "            # Store in LMDB\n",
    "            txn.put(key, value)\n",
    "    \n",
    "    print(f\"Stored {len(df)} rows in LMDB\")\n",
    "\n",
    "# Function to retrieve a value from LMDB\n",
    "def get_embedding_from_lmdb(lmdb_path, dna_sequence):\n",
    "    env = lmdb.open(lmdb_path)\n",
    "    with env.begin() as txn:\n",
    "        value = txn.get(dna_sequence.encode())\n",
    "        if value:\n",
    "            return pickle.loads(value)\n",
    "        else:\n",
    "            return None\n",
    "\n",
    "# Example usage\n",
    "csv_file = \"dna_embeddings.csv\"  # Replace with your CSV file path\n",
    "lmdb_path = \"dna_embeddings_lmdb\"  # Replace with desired LMDB database path\n",
    "\n",
    "# Store CSV in LMDB\n",
    "store_csv_in_lmdb(csv_file, lmdb_path)"
   ]
  },
  {
   "cell_type": "code",
   "execution_count": null,
   "id": "32592f78-8dcd-4fae-8ee4-cfdfea10406e",
   "metadata": {},
   "outputs": [],
   "source": []
  },
  {
   "cell_type": "code",
   "execution_count": 3,
   "id": "be65b88b-89e6-4963-90f4-7fb8bf82484f",
   "metadata": {},
   "outputs": [],
   "source": [
    "# Retrieve and print a specific embedding\n",
    "dna_sequence = \"TTCTCACGTAATGAACATTATAATCTTCTCACTCAAGATG\"  # Replace with a DNA sequence from your data\n",
    "embedding = get_embedding_from_lmdb(lmdb_path, dna_sequence)\n",
    "# if embedding:\n",
    "#     print(\"Retrieved embedding:\", embedding)\n",
    "# else:\n",
    "#     print(\"DNA sequence not found\")"
   ]
  },
  {
   "cell_type": "code",
   "execution_count": 4,
   "id": "0cfa8003-692c-4375-a257-ac1e77916a9a",
   "metadata": {},
   "outputs": [
    {
     "data": {
      "text/plain": [
       "480"
      ]
     },
     "execution_count": 4,
     "metadata": {},
     "output_type": "execute_result"
    }
   ],
   "source": [
    "len(embedding)"
   ]
  },
  {
   "cell_type": "code",
   "execution_count": null,
   "id": "6a99fa85-a8f1-4f43-82f4-dc2da16b33b1",
   "metadata": {},
   "outputs": [],
   "source": []
  },
  {
   "cell_type": "code",
   "execution_count": 5,
   "id": "81852852-e2b0-4658-bd9b-6c701800c65a",
   "metadata": {},
   "outputs": [],
   "source": [
    "embedding = get_embedding_from_lmdb(lmdb_path, cleanup(dna_sequence))"
   ]
  },
  {
   "cell_type": "code",
   "execution_count": 6,
   "id": "64db7b8e-46b6-494f-9a2b-70b380f83f09",
   "metadata": {},
   "outputs": [
    {
     "data": {
      "text/plain": [
       "480"
      ]
     },
     "execution_count": 6,
     "metadata": {},
     "output_type": "execute_result"
    }
   ],
   "source": [
    "len(embedding)"
   ]
  },
  {
   "cell_type": "code",
   "execution_count": 7,
   "id": "6be15b73-4c83-4523-885c-1578073be941",
   "metadata": {},
   "outputs": [
    {
     "name": "stdout",
     "output_type": "stream",
     "text": [
      "Number of entries: 9\n"
     ]
    }
   ],
   "source": [
    "env = lmdb.open(lmdb_path)\n",
    "\n",
    "with env.begin() as txn:\n",
    "    num_entries = txn.stat()['entries']\n",
    "\n",
    "print(f\"Number of entries: {num_entries}\")"
   ]
  },
  {
   "cell_type": "code",
   "execution_count": null,
   "id": "e03234fd-65ae-44a9-9084-6fe5b7ff751c",
   "metadata": {},
   "outputs": [],
   "source": []
  }
 ],
 "metadata": {
  "kernelspec": {
   "display_name": "torch",
   "language": "python",
   "name": "torch"
  },
  "language_info": {
   "codemirror_mode": {
    "name": "ipython",
    "version": 3
   },
   "file_extension": ".py",
   "mimetype": "text/x-python",
   "name": "python",
   "nbconvert_exporter": "python",
   "pygments_lexer": "ipython3",
   "version": "3.12.4"
  }
 },
 "nbformat": 4,
 "nbformat_minor": 5
}
